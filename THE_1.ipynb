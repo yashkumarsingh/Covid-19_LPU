{
 "cells": [
  {
   "cell_type": "markdown",
   "metadata": {},
   "source": [
    "# TAKE HOME EXERCISE 1:"
   ]
  },
  {
   "cell_type": "code",
   "execution_count": 2,
   "metadata": {},
   "outputs": [],
   "source": [
    "import pandas as pd\n",
    "datafile=pd.read_csv(\"coviddata.csv\",delimiter=\",\")\n",
    "states=datafile[\"State\"]"
   ]
  },
  {
   "cell_type": "code",
   "execution_count": 3,
   "metadata": {},
   "outputs": [
    {
     "data": {
      "text/plain": [
       "['Andaman and Nicobar',\n",
       " 'Andhra Pradesh',\n",
       " 'Arunachal Pradesh',\n",
       " 'Assam',\n",
       " 'Bihar',\n",
       " 'Chandigarh',\n",
       " 'Chhattisgarh',\n",
       " 'Dadra and Nagar Haveli',\n",
       " 'Delhi',\n",
       " 'Goa',\n",
       " 'Gujarat',\n",
       " 'Haryana',\n",
       " 'Himachal Pradesh',\n",
       " 'Jammu and Kashmir',\n",
       " 'Jharkhand',\n",
       " 'Karnataka',\n",
       " 'Kerala',\n",
       " 'Ladakh',\n",
       " 'Lakshadweep',\n",
       " 'Madhya Pradesh',\n",
       " 'Maharashtra',\n",
       " 'Manipur',\n",
       " 'Meghalaya',\n",
       " 'Mizoram',\n",
       " 'Nagaland',\n",
       " 'Odisha',\n",
       " 'Puducherry',\n",
       " 'Punjab',\n",
       " 'Rajasthan',\n",
       " 'Sikkim',\n",
       " 'Tamil Nadu',\n",
       " 'Telengana',\n",
       " 'Tripura',\n",
       " 'Uttar Pradesh',\n",
       " 'Uttarakhand',\n",
       " 'West Bengal']"
      ]
     },
     "execution_count": 3,
     "metadata": {},
     "output_type": "execute_result"
    }
   ],
   "source": [
    "states1=list(states)\n",
    "states1"
   ]
  },
  {
   "cell_type": "code",
   "execution_count": 29,
   "metadata": {},
   "outputs": [
    {
     "data": {
      "text/plain": [
       "0        Andaman and Nicobar\n",
       "1             Andhra Pradesh\n",
       "2          Arunachal Pradesh\n",
       "3                      Assam\n",
       "4                      Bihar\n",
       "5                 Chandigarh\n",
       "6               Chhattisgarh\n",
       "7     Dadra and Nagar Haveli\n",
       "8                      Delhi\n",
       "9                        Goa\n",
       "10                   Gujarat\n",
       "11                   Haryana\n",
       "12          Himachal Pradesh\n",
       "13         Jammu and Kashmir\n",
       "14                 Jharkhand\n",
       "15                 Karnataka\n",
       "16                    Kerala\n",
       "17                    Ladakh\n",
       "18               Lakshadweep\n",
       "19            Madhya Pradesh\n",
       "20               Maharashtra\n",
       "21                   Manipur\n",
       "22                 Meghalaya\n",
       "23                   Mizoram\n",
       "24                  Nagaland\n",
       "25                    Odisha\n",
       "26                Puducherry\n",
       "27                    Punjab\n",
       "28                 Rajasthan\n",
       "29                    Sikkim\n",
       "30                Tamil Nadu\n",
       "31                 Telengana\n",
       "32                   Tripura\n",
       "33             Uttar Pradesh\n",
       "34               Uttarakhand\n",
       "35               West Bengal\n",
       "Name: State, dtype: object"
      ]
     },
     "execution_count": 29,
     "metadata": {},
     "output_type": "execute_result"
    }
   ],
   "source": [
    "states"
   ]
  },
  {
   "cell_type": "code",
   "execution_count": 36,
   "metadata": {},
   "outputs": [
    {
     "data": {
      "text/plain": [
       "[100,\n",
       " 15252,\n",
       " 195,\n",
       " 8582,\n",
       " 10249,\n",
       " 446,\n",
       " 2940,\n",
       " 215,\n",
       " 89802,\n",
       " 1387,\n",
       " 33232,\n",
       " 14941,\n",
       " 979,\n",
       " 7695,\n",
       " 2521,\n",
       " 16514,\n",
       " 4593,\n",
       " 990,\n",
       " 0,\n",
       " 13861,\n",
       " 180298,\n",
       " 1260,\n",
       " 52,\n",
       " 160,\n",
       " 459,\n",
       " 7316,\n",
       " 714,\n",
       " 5668,\n",
       " 18312,\n",
       " 101,\n",
       " 94049,\n",
       " 17357,\n",
       " 1396,\n",
       " 24056,\n",
       " 2947,\n",
       " 19170]"
      ]
     },
     "execution_count": 36,
     "metadata": {},
     "output_type": "execute_result"
    }
   ],
   "source": [
    "infected1=list(infected)\n",
    "infected1"
   ]
  },
  {
   "cell_type": "code",
   "execution_count": 35,
   "metadata": {},
   "outputs": [
    {
     "data": {
      "text/plain": [
       "0        100\n",
       "1      15252\n",
       "2        195\n",
       "3       8582\n",
       "4      10249\n",
       "5        446\n",
       "6       2940\n",
       "7        215\n",
       "8      89802\n",
       "9       1387\n",
       "10     33232\n",
       "11     14941\n",
       "12       979\n",
       "13      7695\n",
       "14      2521\n",
       "15     16514\n",
       "16      4593\n",
       "17       990\n",
       "18         0\n",
       "19     13861\n",
       "20    180298\n",
       "21      1260\n",
       "22        52\n",
       "23       160\n",
       "24       459\n",
       "25      7316\n",
       "26       714\n",
       "27      5668\n",
       "28     18312\n",
       "29       101\n",
       "30     94049\n",
       "31     17357\n",
       "32      1396\n",
       "33     24056\n",
       "34      2947\n",
       "35     19170\n",
       "Name: Confirmed, dtype: int64"
      ]
     },
     "execution_count": 35,
     "metadata": {},
     "output_type": "execute_result"
    }
   ],
   "source": [
    "infected=datafile[\"Confirmed\"]\n",
    "infected"
   ]
  },
  {
   "cell_type": "code",
   "execution_count": 40,
   "metadata": {},
   "outputs": [
    {
     "data": {
      "text/plain": [
       "0        50\n",
       "1      6988\n",
       "2        66\n",
       "3      5851\n",
       "4      7946\n",
       "5       367\n",
       "6      2303\n",
       "7        86\n",
       "8     59992\n",
       "9       670\n",
       "10    24030\n",
       "11    10499\n",
       "12      614\n",
       "13     4856\n",
       "14     1931\n",
       "15     8063\n",
       "16     2439\n",
       "17      694\n",
       "18        0\n",
       "19    10655\n",
       "20    93154\n",
       "21      579\n",
       "22       42\n",
       "23      123\n",
       "24      168\n",
       "25     5353\n",
       "26      272\n",
       "27     3867\n",
       "28    14574\n",
       "29       53\n",
       "30    52926\n",
       "31     8082\n",
       "32     1093\n",
       "33    16629\n",
       "34     2317\n",
       "35    12528\n",
       "Name: Recovered, dtype: int64"
      ]
     },
     "execution_count": 40,
     "metadata": {},
     "output_type": "execute_result"
    }
   ],
   "source": [
    "recovered=datafile[\"Recovered\"]\n",
    "recovered"
   ]
  },
  {
   "cell_type": "code",
   "execution_count": 42,
   "metadata": {},
   "outputs": [
    {
     "data": {
      "text/plain": [
       "(50,\n",
       " 6988,\n",
       " 66,\n",
       " 5851,\n",
       " 7946,\n",
       " 367,\n",
       " 2303,\n",
       " 86,\n",
       " 59992,\n",
       " 670,\n",
       " 24030,\n",
       " 10499,\n",
       " 614,\n",
       " 4856,\n",
       " 1931,\n",
       " 8063,\n",
       " 2439,\n",
       " 694,\n",
       " 0,\n",
       " 10655,\n",
       " 93154,\n",
       " 579,\n",
       " 42,\n",
       " 123,\n",
       " 168,\n",
       " 5353,\n",
       " 272,\n",
       " 3867,\n",
       " 14574,\n",
       " 53,\n",
       " 52926,\n",
       " 8082,\n",
       " 1093,\n",
       " 16629,\n",
       " 2317,\n",
       " 12528)"
      ]
     },
     "execution_count": 42,
     "metadata": {},
     "output_type": "execute_result"
    }
   ],
   "source": [
    "recovered1=tuple(recovered)\n",
    "recovered1"
   ]
  },
  {
   "cell_type": "code",
   "execution_count": 43,
   "metadata": {},
   "outputs": [],
   "source": [
    "dict_res={states1[i]:infected1[i] for i in range(len(infected1))}"
   ]
  },
  {
   "cell_type": "code",
   "execution_count": 44,
   "metadata": {},
   "outputs": [
    {
     "data": {
      "text/plain": [
       "{'Andaman and Nicobar': 100,\n",
       " 'Andhra Pradesh': 15252,\n",
       " 'Arunachal Pradesh': 195,\n",
       " 'Assam': 8582,\n",
       " 'Bihar': 10249,\n",
       " 'Chandigarh': 446,\n",
       " 'Chhattisgarh': 2940,\n",
       " 'Dadra and Nagar Haveli': 215,\n",
       " 'Delhi': 89802,\n",
       " 'Goa': 1387,\n",
       " 'Gujarat': 33232,\n",
       " 'Haryana': 14941,\n",
       " 'Himachal Pradesh': 979,\n",
       " 'Jammu and Kashmir': 7695,\n",
       " 'Jharkhand': 2521,\n",
       " 'Karnataka': 16514,\n",
       " 'Kerala': 4593,\n",
       " 'Ladakh': 990,\n",
       " 'Lakshadweep': 0,\n",
       " 'Madhya Pradesh': 13861,\n",
       " 'Maharashtra': 180298,\n",
       " 'Manipur': 1260,\n",
       " 'Meghalaya': 52,\n",
       " 'Mizoram': 160,\n",
       " 'Nagaland': 459,\n",
       " 'Odisha': 7316,\n",
       " 'Puducherry': 714,\n",
       " 'Punjab': 5668,\n",
       " 'Rajasthan': 18312,\n",
       " 'Sikkim': 101,\n",
       " 'Tamil Nadu': 94049,\n",
       " 'Telengana': 17357,\n",
       " 'Tripura': 1396,\n",
       " 'Uttar Pradesh': 24056,\n",
       " 'Uttarakhand': 2947,\n",
       " 'West Bengal': 19170}"
      ]
     },
     "execution_count": 44,
     "metadata": {},
     "output_type": "execute_result"
    }
   ],
   "source": [
    "dict_res"
   ]
  },
  {
   "cell_type": "code",
   "execution_count": null,
   "metadata": {},
   "outputs": [],
   "source": []
  }
 ],
 "metadata": {
  "kernelspec": {
   "display_name": "Python 3",
   "language": "python",
   "name": "python3"
  },
  "language_info": {
   "codemirror_mode": {
    "name": "ipython",
    "version": 3
   },
   "file_extension": ".py",
   "mimetype": "text/x-python",
   "name": "python",
   "nbconvert_exporter": "python",
   "pygments_lexer": "ipython3",
   "version": "3.6.5"
  }
 },
 "nbformat": 4,
 "nbformat_minor": 4
}
