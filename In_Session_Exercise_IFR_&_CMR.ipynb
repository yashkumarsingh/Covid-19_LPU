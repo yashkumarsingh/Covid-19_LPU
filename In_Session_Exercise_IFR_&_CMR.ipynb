{
 "cells": [
  {
   "cell_type": "markdown",
   "metadata": {},
   "source": [
    "# Description"
   ]
  },
  {
   "cell_type": "code",
   "execution_count": 1,
   "metadata": {},
   "outputs": [],
   "source": [
    "# Mumbai IDF \n",
    "#InfectedTotalTillDate= ITTD\n",
    "#Infected Total Till Date= ITTD\n",
    "#DeathsTillDate = DTD\n",
    "\n",
    "# IFR=  Infection fatality rate \n",
    "\n",
    "# CMR= CRUDE MORALITY RATE"
   ]
  },
  {
   "cell_type": "markdown",
   "metadata": {},
   "source": [
    "## Initializing values"
   ]
  },
  {
   "cell_type": "code",
   "execution_count": 2,
   "metadata": {},
   "outputs": [],
   "source": [
    "District = 'Mumbai'\n",
    "\n",
    "#Recovered Till Date = RTD\n",
    "RTD = 67890\n",
    "\n",
    "#Infected Total Till Date= ITTD\n",
    "ITTD = 136596\n",
    "\n",
    "#DeathsTillDate = DTD\n",
    "DTD= 5732\n"
   ]
  },
  {
   "cell_type": "markdown",
   "metadata": {},
   "source": [
    "## Calculating the IFR & CMR"
   ]
  },
  {
   "cell_type": "code",
   "execution_count": 5,
   "metadata": {},
   "outputs": [
    {
     "name": "stdout",
     "output_type": "stream",
     "text": [
      "IFR  :  4.196316143957364\n",
      "CMR  :  41963.16143957363\n"
     ]
    }
   ],
   "source": [
    "IFR = (DTD/ITTD)*100\n",
    "CMR = (DTD/ITTD)*1000000\n",
    "\n",
    "print(\"IFR  : \" , IFR)\n",
    "print(\"CMR  : \" , CMR)"
   ]
  },
  {
   "cell_type": "code",
   "execution_count": null,
   "metadata": {},
   "outputs": [],
   "source": []
  }
 ],
 "metadata": {
  "kernelspec": {
   "display_name": "Python 3",
   "language": "python",
   "name": "python3"
  },
  "language_info": {
   "codemirror_mode": {
    "name": "ipython",
    "version": 3
   },
   "file_extension": ".py",
   "mimetype": "text/x-python",
   "name": "python",
   "nbconvert_exporter": "python",
   "pygments_lexer": "ipython3",
   "version": "3.6.5"
  }
 },
 "nbformat": 4,
 "nbformat_minor": 2
}
