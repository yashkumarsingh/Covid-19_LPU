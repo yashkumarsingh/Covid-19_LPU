{
 "cells": [
  {
   "cell_type": "markdown",
   "metadata": {},
   "source": [
    "# IN SESSION TASK - 1"
   ]
  },
  {
   "cell_type": "code",
   "execution_count": 1,
   "metadata": {},
   "outputs": [
    {
     "data": {
      "text/plain": [
       "{'karnataka': 5668,\n",
       " 'Himachal Pradesh': 979,\n",
       " 'Kerela': 4593,\n",
       " 'Tamil Nadu': 94049,\n",
       " 'Uttar pradesh': 1387}"
      ]
     },
     "execution_count": 1,
     "metadata": {},
     "output_type": "execute_result"
    }
   ],
   "source": [
    "states=[\"karnataka\",\"Himachal Pradesh\",\"Kerela\",\"Tamil Nadu\",\"Uttar pradesh\"]\n",
    "infected=[5668,979,4593,94049,1387]\n",
    "recovered=(3867,614,2439,52926,670)\n",
    "res={states[i]:infected[i] for i in range(len(infected))}\n",
    "       \n",
    "res\n",
    "\n",
    "\n"
   ]
  },
  {
   "cell_type": "markdown",
   "metadata": {},
   "source": [
    "# IN SESSION TASK - 2"
   ]
  },
  {
   "cell_type": "code",
   "execution_count": 4,
   "metadata": {},
   "outputs": [],
   "source": [
    "district=\"Delhi\"\n",
    "infected=344344\n",
    "recovered=4234\n",
    "deaths=5732\n",
    "def ifr(deaths,infected):\n",
    "    ifr_value=(deaths/infected)*100\n",
    "    print(\" the ifr value is {:.3f}\".format(ifr_value)+\" %\")\n",
    "    \n",
    "\n"
   ]
  },
  {
   "cell_type": "code",
   "execution_count": 5,
   "metadata": {},
   "outputs": [
    {
     "name": "stdout",
     "output_type": "stream",
     "text": [
      " the ifr value is 1.665 %\n"
     ]
    }
   ],
   "source": [
    "ifr(deaths,infected)"
   ]
  },
  {
   "cell_type": "code",
   "execution_count": 6,
   "metadata": {},
   "outputs": [
    {
     "name": "stdout",
     "output_type": "stream",
     "text": [
      " the cmr value is 57.52 %\n"
     ]
    }
   ],
   "source": [
    "def cmr(deaths,recovered):\n",
    "    cmr_value=(deaths/(recovered+deaths))*100\n",
    "    print(\" the cmr value is {:.2f}\".format(cmr_value)+\" %\")\n",
    "cmr(deaths,recovered)"
   ]
  },
  {
   "cell_type": "code",
   "execution_count": null,
   "metadata": {},
   "outputs": [],
   "source": []
  }
 ],
 "metadata": {
  "kernelspec": {
   "display_name": "Python 3",
   "language": "python",
   "name": "python3"
  },
  "language_info": {
   "codemirror_mode": {
    "name": "ipython",
    "version": 3
   },
   "file_extension": ".py",
   "mimetype": "text/x-python",
   "name": "python",
   "nbconvert_exporter": "python",
   "pygments_lexer": "ipython3",
   "version": "3.6.5"
  }
 },
 "nbformat": 4,
 "nbformat_minor": 4
}
